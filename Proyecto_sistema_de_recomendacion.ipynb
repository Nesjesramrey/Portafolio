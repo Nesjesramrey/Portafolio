{
  "nbformat": 4,
  "nbformat_minor": 0,
  "metadata": {
    "kernelspec": {
      "display_name": "Python 3",
      "language": "python",
      "name": "python3"
    },
    "language_info": {
      "codemirror_mode": {
        "name": "ipython",
        "version": 3
      },
      "file_extension": ".py",
      "mimetype": "text/x-python",
      "name": "python",
      "nbconvert_exporter": "python",
      "pygments_lexer": "ipython3",
      "version": "3.8.5"
    },
    "colab": {
      "name": "Proyecto sistema de recomendacion.ipynb",
      "provenance": [],
      "include_colab_link": true
    }
  },
  "cells": [
    {
      "cell_type": "markdown",
      "metadata": {
        "id": "view-in-github",
        "colab_type": "text"
      },
      "source": [
        "<a href=\"https://colab.research.google.com/github/Nesjesramrey/Modulo-4/blob/main/Proyecto_sistema_de_recomendacion.ipynb\" target=\"_parent\"><img src=\"https://colab.research.google.com/assets/colab-badge.svg\" alt=\"Open In Colab\"/></a>"
      ]
    },
    {
      "cell_type": "code",
      "metadata": {
        "colab": {
          "base_uri": "https://localhost:8080/"
        },
        "id": "DQtJ8PcS1O4F",
        "outputId": "f5e5b59a-1fa5-408f-8c55-13491a7883c3"
      },
      "source": [
        "import numpy as np\n",
        "import pandas as pd\n",
        "from matplotlib import pyplot as plt\n",
        "from sklearn.datasets.samples_generator import make_blobs\n",
        "from sklearn.model_selection import train_test_split\n",
        "from sklearn.cluster import KMeans"
      ],
      "execution_count": null,
      "outputs": [
        {
          "output_type": "stream",
          "text": [
            "/usr/local/lib/python3.7/dist-packages/sklearn/utils/deprecation.py:144: FutureWarning: The sklearn.datasets.samples_generator module is  deprecated in version 0.22 and will be removed in version 0.24. The corresponding classes / functions should instead be imported from sklearn.datasets. Anything that cannot be imported from sklearn.datasets is now part of the private API.\n",
            "  warnings.warn(message, FutureWarning)\n"
          ],
          "name": "stderr"
        }
      ]
    },
    {
      "cell_type": "code",
      "metadata": {
        "colab": {
          "base_uri": "https://localhost:8080/"
        },
        "id": "bLwOabbj1iwy",
        "outputId": "7fe10e96-2b69-4404-9ca9-d30e46357634"
      },
      "source": [
        "from google.colab import drive\n",
        "drive.mount('/content/drive')"
      ],
      "execution_count": null,
      "outputs": [
        {
          "output_type": "stream",
          "text": [
            "Mounted at /content/drive\n"
          ],
          "name": "stdout"
        }
      ]
    },
    {
      "cell_type": "code",
      "metadata": {
        "colab": {
          "base_uri": "https://localhost:8080/",
          "height": 402
        },
        "id": "n7IT070f1O4I",
        "outputId": "341b43f2-8a0b-4524-dbf9-1818e968a99a"
      },
      "source": [
        "df_spotify = pd.read_csv('/content/drive/MyDrive/Ml/spotifyml 2.csv')\n",
        "df_spotify"
      ],
      "execution_count": null,
      "outputs": [
        {
          "output_type": "execute_result",
          "data": {
            "text/html": [
              "<div>\n",
              "<style scoped>\n",
              "    .dataframe tbody tr th:only-of-type {\n",
              "        vertical-align: middle;\n",
              "    }\n",
              "\n",
              "    .dataframe tbody tr th {\n",
              "        vertical-align: top;\n",
              "    }\n",
              "\n",
              "    .dataframe thead th {\n",
              "        text-align: right;\n",
              "    }\n",
              "</style>\n",
              "<table border=\"1\" class=\"dataframe\">\n",
              "  <thead>\n",
              "    <tr style=\"text-align: right;\">\n",
              "      <th></th>\n",
              "      <th>Unnamed: 0</th>\n",
              "      <th>genre</th>\n",
              "      <th>track_name</th>\n",
              "      <th>popularity</th>\n",
              "      <th>energy</th>\n",
              "    </tr>\n",
              "  </thead>\n",
              "  <tbody>\n",
              "    <tr>\n",
              "      <th>0</th>\n",
              "      <td>0</td>\n",
              "      <td>Movie</td>\n",
              "      <td>Cest beau de faire un Show</td>\n",
              "      <td>0</td>\n",
              "      <td>0.910</td>\n",
              "    </tr>\n",
              "    <tr>\n",
              "      <th>1</th>\n",
              "      <td>1</td>\n",
              "      <td>Movie</td>\n",
              "      <td>Perdu davance par Gad Elmaleh</td>\n",
              "      <td>1</td>\n",
              "      <td>0.737</td>\n",
              "    </tr>\n",
              "    <tr>\n",
              "      <th>2</th>\n",
              "      <td>2</td>\n",
              "      <td>Movie</td>\n",
              "      <td>Dont Let Me Be Lonely Tonight</td>\n",
              "      <td>3</td>\n",
              "      <td>0.131</td>\n",
              "    </tr>\n",
              "    <tr>\n",
              "      <th>3</th>\n",
              "      <td>3</td>\n",
              "      <td>Movie</td>\n",
              "      <td>Dis-moi Monsieur Gordon Cooper</td>\n",
              "      <td>0</td>\n",
              "      <td>0.326</td>\n",
              "    </tr>\n",
              "    <tr>\n",
              "      <th>4</th>\n",
              "      <td>4</td>\n",
              "      <td>Movie</td>\n",
              "      <td>Ouverture</td>\n",
              "      <td>4</td>\n",
              "      <td>0.225</td>\n",
              "    </tr>\n",
              "    <tr>\n",
              "      <th>...</th>\n",
              "      <td>...</td>\n",
              "      <td>...</td>\n",
              "      <td>...</td>\n",
              "      <td>...</td>\n",
              "      <td>...</td>\n",
              "    </tr>\n",
              "    <tr>\n",
              "      <th>232516</th>\n",
              "      <td>232720</td>\n",
              "      <td>Soul</td>\n",
              "      <td>Son Of Slide</td>\n",
              "      <td>39</td>\n",
              "      <td>0.714</td>\n",
              "    </tr>\n",
              "    <tr>\n",
              "      <th>232517</th>\n",
              "      <td>232721</td>\n",
              "      <td>Soul</td>\n",
              "      <td>Burning Fire</td>\n",
              "      <td>38</td>\n",
              "      <td>0.683</td>\n",
              "    </tr>\n",
              "    <tr>\n",
              "      <th>232518</th>\n",
              "      <td>232722</td>\n",
              "      <td>Soul</td>\n",
              "      <td>Im Your Hoochie Coochie Man</td>\n",
              "      <td>47</td>\n",
              "      <td>0.419</td>\n",
              "    </tr>\n",
              "    <tr>\n",
              "      <th>232519</th>\n",
              "      <td>232723</td>\n",
              "      <td>Soul</td>\n",
              "      <td>With My Words</td>\n",
              "      <td>44</td>\n",
              "      <td>0.704</td>\n",
              "    </tr>\n",
              "    <tr>\n",
              "      <th>232520</th>\n",
              "      <td>232724</td>\n",
              "      <td>Soul</td>\n",
              "      <td>You Dont Have To Hurt No More</td>\n",
              "      <td>35</td>\n",
              "      <td>0.470</td>\n",
              "    </tr>\n",
              "  </tbody>\n",
              "</table>\n",
              "<p>232521 rows × 5 columns</p>\n",
              "</div>"
            ],
            "text/plain": [
              "        Unnamed: 0  genre                      track_name  popularity  energy\n",
              "0                0  Movie      Cest beau de faire un Show           0   0.910\n",
              "1                1  Movie   Perdu davance par Gad Elmaleh           1   0.737\n",
              "2                2  Movie   Dont Let Me Be Lonely Tonight           3   0.131\n",
              "3                3  Movie  Dis-moi Monsieur Gordon Cooper           0   0.326\n",
              "4                4  Movie                       Ouverture           4   0.225\n",
              "...            ...    ...                             ...         ...     ...\n",
              "232516      232720   Soul                    Son Of Slide          39   0.714\n",
              "232517      232721   Soul                    Burning Fire          38   0.683\n",
              "232518      232722   Soul     Im Your Hoochie Coochie Man          47   0.419\n",
              "232519      232723   Soul                   With My Words          44   0.704\n",
              "232520      232724   Soul   You Dont Have To Hurt No More          35   0.470\n",
              "\n",
              "[232521 rows x 5 columns]"
            ]
          },
          "metadata": {
            "tags": []
          },
          "execution_count": 3
        }
      ]
    },
    {
      "cell_type": "code",
      "metadata": {
        "id": "a0pgd3eB1O4I"
      },
      "source": [
        "x = df_spotify[['popularity', 'energy']].to_numpy()\n",
        "y= df_spotify['genre'].map({\n",
        "    'Comedy':0,              \n",
        "    'Soundtrack':1,        \n",
        "    'Indie':2,               \n",
        "    'Jazz':3,                \n",
        "    'Pop':4,                 \n",
        "    'Electronic':5,          \n",
        "    'Childrens Music':6,    \n",
        "    'Hip-Hop':7,             \n",
        "    'Folk':8,                \n",
        "    'Alternative':9,         \n",
        "    'Rock':10,                \n",
        "    'Classical':11,           \n",
        "    'Rap':12,                 \n",
        "    'World':13,               \n",
        "    'Soul':14,                \n",
        "    'R&B':15,                 \n",
        "    'Blues':16,               \n",
        "    'Anime':17,               \n",
        "    'Reggaeton':18,           \n",
        "    'Ska':19,                 \n",
        "    'Reggae':20,              \n",
        "    'Dance':21,               \n",
        "    'Country':22,             \n",
        "    'Opera':23,               \n",
        "    'Movie':24,   \n",
        "    'A Capella':25           \n",
        "}).to_numpy()\n",
        "\n",
        "x_train, x_test, y_train, y_test = train_test_split(x,y,test_size=0.4)"
      ],
      "execution_count": null,
      "outputs": []
    },
    {
      "cell_type": "code",
      "metadata": {
        "colab": {
          "base_uri": "https://localhost:8080/"
        },
        "id": "HLs3m2kb1O4J",
        "outputId": "62b553e9-7159-46ba-ecb8-eee91f517871"
      },
      "source": [
        "modelo_kmeans = KMeans(n_clusters = 2).fit(x_train)\n",
        "centroides = modelo_kmeans.cluster_centers_\n",
        "print(centroides)"
      ],
      "execution_count": null,
      "outputs": [
        {
          "output_type": "stream",
          "text": [
            "[[23.43233671  0.5090192 ]\n",
            " [53.72712633  0.61467334]]\n"
          ],
          "name": "stdout"
        }
      ]
    },
    {
      "cell_type": "code",
      "metadata": {
        "colab": {
          "base_uri": "https://localhost:8080/"
        },
        "id": "3R_MA_WJ1O4J",
        "outputId": "cdc37565-5b37-41b2-9a62-c2e2616d8c76"
      },
      "source": [
        "def distEuclidiana(muestra, dataset):\n",
        "    distancias = np.zeros((dataset.shape[0],1))\n",
        "    for counter in range(0,dataset.shape[0]):\n",
        "        distancias[counter] = np.linalg.norm(muestra-dataset[counter])\n",
        "    return distancias\n",
        "\n",
        "muestra = np.array([1,2,3,4]) # Prueba la función con varios puntos\n",
        "dataset = np.array([[1,2,3,4],\n",
        "                    [2,3,4,5],\n",
        "                    [3,4,5,6]])\n",
        "distancias = distEuclidiana(muestra, dataset)\n",
        "print(distancias)\n",
        "\n",
        "def clasificarPorCentroides(muestras, centroides):\n",
        "    resultado = np.zeros((muestras.shape[0],1))\n",
        "    for counter in range(0, muestras.shape[0]):\n",
        "        resultado[counter] = centroideCercano(muestras[counter], centroides)\n",
        "    return resultado\n",
        "\n",
        "\n",
        "def centroideCercano(muestra, listaCentroides):\n",
        "    listaDistancias = distEuclidiana(muestra, listaCentroides)\n",
        "    centroideCercano = np.argmin(listaDistancias)\n",
        "    return centroideCercano\n",
        "\n",
        "\n",
        "def recomiendamemusica(listaDemusica,datosmusica,musicaEjemplo,centroides):\n",
        "    #Vamos a buscar el centroide mas cercano  )\n",
        "    clasificacionDeseada = centroideCercano(musicaEjemplo, centroides)\n",
        "    \n",
        "    #Luego, vamos a clasificar todas las canciones por centroides.\n",
        "    clasificaciones = clasificarPorCentroides(datosmusica, centroides)\n",
        "    \n",
        "    #Finalmente, sacaremos los indices que hacen match entre clasificaciones.\n",
        "    indices = np.where(clasificaciones == clasificacionDeseada)[0]\n",
        "    \n",
        "    #Y regresamos la lista de peliculas.\n",
        "    return listaDemusica[indices]"
      ],
      "execution_count": null,
      "outputs": [
        {
          "output_type": "stream",
          "text": [
            "[[0.]\n",
            " [2.]\n",
            " [4.]]\n"
          ],
          "name": "stdout"
        }
      ]
    },
    {
      "cell_type": "code",
      "metadata": {
        "colab": {
          "base_uri": "https://localhost:8080/"
        },
        "id": "6PfdvRL31O4K",
        "outputId": "7e380638-c908-4388-e9be-9a13a11e0b6c"
      },
      "source": [
        "#Sientete libre de cambiar este valor.\n",
        "indice_df = 3689\n",
        "\n",
        "#Extrae la película que deseas del dataframe.\n",
        "musicaElegida = df_spotify.iloc[indice_df]\n",
        "\n",
        "#Obten las características de la pelicula que elegiste.\n",
        "caracteristicamusica = musicaElegida[['popularity', 'energy']].to_numpy()\n",
        "\n",
        "#Obten la lista de recomendaciones\n",
        "recomendaciones = recomiendamemusica(df_spotify['track_name'],x, caracteristicamusica, centroides)\n",
        "\n",
        "#E imprime lo que hallaste!\n",
        "print(\"Porque escuchaste \"+musicaElegida['track_name']+\" ...\")\n",
        "print(recomendaciones)"
      ],
      "execution_count": null,
      "outputs": [
        {
          "output_type": "stream",
          "text": [
            "Porque escuchaste If You See Him / If You See Her ...\n",
            "134                              Be Without You - Kendu Mix\n",
            "135                                               Desperado\n",
            "136                 Ice On My Baby feat Kevin Gates - Remix\n",
            "137                               Heaven Falls / Fall on Me\n",
            "138                                             Love Myself\n",
            "                                ...                        \n",
            "232513                                                  POP\n",
            "232514    I Just Want To Make Love To You - Electric Mud...\n",
            "232516                                         Son Of Slide\n",
            "232518                          Im Your Hoochie Coochie Man\n",
            "232519                                        With My Words\n",
            "Name: track_name, Length: 135871, dtype: object\n"
          ],
          "name": "stdout"
        }
      ]
    },
    {
      "cell_type": "code",
      "metadata": {
        "id": "kCGCniO11O4K"
      },
      "source": [
        ""
      ],
      "execution_count": null,
      "outputs": []
    }
  ]
}